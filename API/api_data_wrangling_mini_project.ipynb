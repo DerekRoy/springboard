{
 "cells": [
  {
   "cell_type": "markdown",
   "metadata": {},
   "source": [
    "This exercise will require you to pull some data from the Qunadl API. Qaundl is currently the most widely used aggregator of financial market data."
   ]
  },
  {
   "cell_type": "markdown",
   "metadata": {},
   "source": [
    "As a first step, you will need to register a free account on the http://www.quandl.com website."
   ]
  },
  {
   "cell_type": "markdown",
   "metadata": {},
   "source": [
    "After you register, you will be provided with a unique API key, that you should store:"
   ]
  },
  {
   "cell_type": "code",
   "execution_count": 1,
   "metadata": {},
   "outputs": [],
   "source": [
    "# Store the API key as a string - according to PEP8, constants are always named in all upper case\n",
    "API_KEY = 'X_XXXXXXXXX'"
   ]
  },
  {
   "cell_type": "markdown",
   "metadata": {},
   "source": [
    "Qaundl has a large number of data sources, but, unfortunately, most of them require a Premium subscription. Still, there are also a good number of free datasets."
   ]
  },
  {
   "cell_type": "markdown",
   "metadata": {},
   "source": [
    "For this mini project, we will focus on equities data from the Frankfurt Stock Exhange (FSE), which is available for free. We'll try and analyze the stock prices of a company called Carl Zeiss Meditec, which manufactures tools for eye examinations, as well as medical lasers for laser eye surgery: https://www.zeiss.com/meditec/int/home.html. The company is listed under the stock ticker AFX_X."
   ]
  },
  {
   "cell_type": "markdown",
   "metadata": {},
   "source": [
    "You can find the detailed Quandl API instructions here: https://docs.quandl.com/docs/time-series"
   ]
  },
  {
   "cell_type": "markdown",
   "metadata": {},
   "source": [
    "While there is a dedicated Python package for connecting to the Quandl API, we would prefer that you use the *requests* package, which can be easily downloaded using *pip* or *conda*. You can find the documentation for the package here: http://docs.python-requests.org/en/master/ "
   ]
  },
  {
   "cell_type": "markdown",
   "metadata": {},
   "source": [
    "Finally, apart from the *requests* package, you are encouraged to not use any third party Python packages, such as *pandas*, and instead focus on what's available in the Python Standard Library (the *collections* module might come in handy: https://pymotw.com/3/collections/).\n",
    "Also, since you won't have access to DataFrames, you are encouraged to us Python's native data structures - preferably dictionaries, though some questions can also be answered using lists.\n",
    "You can read more on these data structures here: https://docs.python.org/3/tutorial/datastructures.html"
   ]
  },
  {
   "cell_type": "markdown",
   "metadata": {},
   "source": [
    "Keep in mind that the JSON responses you will be getting from the API map almost one-to-one to Python's dictionaries. Unfortunately, they can be very nested, so make sure you read up on indexing dictionaries in the documentation provided above."
   ]
  },
  {
   "cell_type": "code",
   "execution_count": 2,
   "metadata": {},
   "outputs": [],
   "source": [
    "# First, import the relevant modules\n",
    "import requests\n"
   ]
  },
  {
   "cell_type": "code",
   "execution_count": 3,
   "metadata": {},
   "outputs": [],
   "source": [
    "# Now, call the Quandl API and pull out a small sample of the data (only one day) to get a glimpse\n",
    "# into the JSON structure that will be returned\n",
    "r = requests.get('https://www.quandl.com/api/v3/datasets/FSE/AFX_X.json?api_key='+API_KEY+'&start_date=1970-01-01&end_date=1970-01-01')"
   ]
  },
  {
   "cell_type": "code",
   "execution_count": 4,
   "metadata": {},
   "outputs": [
    {
     "data": {
      "text/plain": [
       "{'dataset': {'id': 10095370,\n",
       "  'dataset_code': 'AFX_X',\n",
       "  'database_code': 'FSE',\n",
       "  'name': 'Carl Zeiss Meditec (AFX_X)',\n",
       "  'description': 'Stock Prices for Carl Zeiss Meditec (AFX) from the Frankfurt Stock Exchange.<br><br>Trading System: Xetra<br><br>ISIN: DE0005313704',\n",
       "  'refreshed_at': '2018-09-03T22:28:07.555Z',\n",
       "  'newest_available_date': '2018-09-03',\n",
       "  'oldest_available_date': '2000-06-07',\n",
       "  'column_names': ['Date',\n",
       "   'Open',\n",
       "   'High',\n",
       "   'Low',\n",
       "   'Close',\n",
       "   'Change',\n",
       "   'Traded Volume',\n",
       "   'Turnover',\n",
       "   'Last Price of the Day',\n",
       "   'Daily Traded Units',\n",
       "   'Daily Turnover'],\n",
       "  'frequency': 'daily',\n",
       "  'type': 'Time Series',\n",
       "  'premium': False,\n",
       "  'limit': None,\n",
       "  'transform': None,\n",
       "  'column_index': None,\n",
       "  'start_date': '2000-06-07',\n",
       "  'end_date': '1970-01-01',\n",
       "  'data': [],\n",
       "  'collapse': None,\n",
       "  'order': None,\n",
       "  'database_id': 6129}}"
      ]
     },
     "execution_count": 4,
     "metadata": {},
     "output_type": "execute_result"
    }
   ],
   "source": [
    "# Inspect the JSON structure of the object you created, and take note of how nested it is,\n",
    "# as well as the overall structure\n",
    "r.json()"
   ]
  },
  {
   "cell_type": "markdown",
   "metadata": {},
   "source": [
    "These are your tasks for this mini project:\n",
    "\n",
    "1. Collect data from the Franfurt Stock Exchange, for the ticker AFX_X, for the whole year 2017 (keep in mind that the date format is YYYY-MM-DD).\n",
    "2. Convert the returned JSON object into a Python dictionary.\n",
    "3. Calculate what the highest and lowest opening prices were for the stock in this period.\n",
    "4. What was the largest change in any one day (based on High and Low price)?\n",
    "5. What was the largest change between any two days (based on Closing Price)?\n",
    "6. What was the average daily trading volume during this year?\n",
    "7. (Optional) What was the median trading volume during this year. (Note: you may need to implement your own function for calculating the median.)"
   ]
  },
  {
   "cell_type": "code",
   "execution_count": 5,
   "metadata": {},
   "outputs": [],
   "source": [
    "# Collect data from the Franfurt Stock Exchange\n",
    "afx = requests.get('https://www.quandl.com/api/v3/datasets/FSE/AFX_X.json?api_key='+API_KEY+'&start_date=2017-01-01&end_date=2017-12-31')\n",
    "\n",
    "# Convert to dictionary\n",
    "afx_dict = dict(afx.json())"
   ]
  },
  {
   "cell_type": "code",
   "execution_count": 6,
   "metadata": {},
   "outputs": [],
   "source": [
    "# turn data lists into dictionary\n",
    "columns = afx_dict['dataset']['column_names']\n",
    "data = afx_dict['dataset']['data']\n",
    "\n",
    "afx_data = {}\n",
    "for i, day in enumerate(data):\n",
    "    afx_data[i] = dict(zip(columns,day))"
   ]
  },
  {
   "cell_type": "code",
   "execution_count": 7,
   "metadata": {},
   "outputs": [
    {
     "name": "stdout",
     "output_type": "stream",
     "text": [
      "Highest opening price: 53.11\n",
      "Lowest opening price: 34.0\n"
     ]
    }
   ],
   "source": [
    "# Get highest opening price\n",
    "high_open = max([afx_data[i]['Open'] for i in afx_data if afx_data[i]['Open'] is not None])\n",
    "\n",
    "# Get lowest opening price\n",
    "low_open = min([afx_data[i]['Open'] for i in afx_data if afx_data[i]['Open'] is not None])\n",
    "\n",
    "print('Highest opening price:', high_open)\n",
    "print('Lowest opening price:', low_open)"
   ]
  },
  {
   "cell_type": "code",
   "execution_count": 8,
   "metadata": {},
   "outputs": [
    {
     "name": "stdout",
     "output_type": "stream",
     "text": [
      "Largest positive change in one day: 1.6400\n",
      "Largest negative change in one day: -1.6900\n"
     ]
    }
   ],
   "source": [
    "# Calculate the largest change in one day\n",
    "change = [afx_data[i]['Close'] - afx_data[i]['Open'] \n",
    "                                   for i in afx_data if afx_data[i]['Open'] is not None \n",
    "                                   and [afx_data[i]['Close']] is not None]\n",
    "\n",
    "print('Largest positive change in one day: {:.4f}'.format(max(change)))\n",
    "print('Largest negative change in one day: {:.4f}'.format(min(change)))"
   ]
  },
  {
   "cell_type": "code",
   "execution_count": 9,
   "metadata": {},
   "outputs": [
    {
     "name": "stdout",
     "output_type": "stream",
     "text": [
      "Largest postive change between two days: 2.5600\n",
      "Largest negative change between two days: -1.7200\n"
     ]
    }
   ],
   "source": [
    "# Calculate the largest change between any two days\n",
    "two_day_change = []\n",
    "\n",
    "for i in afx_data:\n",
    "    if i+1 < len(afx_data):\n",
    "        if afx_data[i]['Close'] is not None:\n",
    "            two_day_change.extend([afx_data[i+1]['Close'] - afx_data[i]['Close']])\n",
    "        else:\n",
    "            two_day_change.extend(0)\n",
    "\n",
    "print('Largest postive change between two days: {:.4f}'.format(max(two_day_change)))\n",
    "print('Largest negative change between two days: {:.4f}'.format(min(two_day_change)))"
   ]
  },
  {
   "cell_type": "code",
   "execution_count": 10,
   "metadata": {},
   "outputs": [
    {
     "name": "stdout",
     "output_type": "stream",
     "text": [
      "Mean traded volume: 89124.3373\n"
     ]
    }
   ],
   "source": [
    "# Calculate the average daily traded volume\n",
    "traded_vol = [afx_data[i]['Traded Volume'] for i in afx_data if afx_data[i]['Traded Volume'] is not None]\n",
    "\n",
    "print('Mean traded volume: {:.4f}'.format(sum(traded_vol)/len(traded_vol)))"
   ]
  },
  {
   "cell_type": "code",
   "execution_count": 11,
   "metadata": {},
   "outputs": [
    {
     "name": "stdout",
     "output_type": "stream",
     "text": [
      "Median traded volume: 76286.00\n"
     ]
    }
   ],
   "source": [
    "# Calculate the median trading volume\n",
    "median_trade_vol = sorted(traded_vol)[len(traded_vol)//2]\n",
    "print('Median traded volume: {:.2f}'.format(median_trade_vol))"
   ]
  },
  {
   "cell_type": "code",
   "execution_count": 12,
   "metadata": {},
   "outputs": [
    {
     "name": "stdout",
     "output_type": "stream",
     "text": [
      "Mean daily trading volume: 39.6063\n"
     ]
    }
   ],
   "source": [
    "# Calculate Daily Traded Volume\n",
    "daily_traded_vol = []\n",
    "for i in afx_data:\n",
    "    if i+1 < len(afx_data):\n",
    "        if afx_data[i]['Traded Volume'] is not None:\n",
    "            daily_traded_vol.extend([afx_data[i+1]['Traded Volume'] - afx_data[i]['Traded Volume']])\n",
    "        else:\n",
    "            daily_traded_vol.extend(0)\n",
    "\n",
    "# Calculate the mean daily trading volumne\n",
    "print('Mean daily trading volume: {:.4f}'.format(sum(daily_traded_vol)/len(daily_traded_vol)))"
   ]
  },
  {
   "cell_type": "code",
   "execution_count": 13,
   "metadata": {},
   "outputs": [
    {
     "name": "stdout",
     "output_type": "stream",
     "text": [
      "Median daily trading volume: 65.0000\n"
     ]
    }
   ],
   "source": [
    "# Calculate the median daily trading volume\n",
    "median_daily_trade_vol = sorted(daily_traded_vol)[len(daily_traded_vol)//2]\n",
    "print('Median daily trading volume: {:.4f}'.format(median_daily_trade_vol))"
   ]
  },
  {
   "cell_type": "code",
   "execution_count": null,
   "metadata": {},
   "outputs": [],
   "source": []
  }
 ],
 "metadata": {
  "kernelspec": {
   "display_name": "Python 3",
   "language": "python",
   "name": "python3"
  },
  "language_info": {
   "codemirror_mode": {
    "name": "ipython",
    "version": 3
   },
   "file_extension": ".py",
   "mimetype": "text/x-python",
   "name": "python",
   "nbconvert_exporter": "python",
   "pygments_lexer": "ipython3",
   "version": "3.6.5"
  }
 },
 "nbformat": 4,
 "nbformat_minor": 2
}
